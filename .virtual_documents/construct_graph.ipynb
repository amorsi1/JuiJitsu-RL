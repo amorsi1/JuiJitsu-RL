import pandas as pd
import networkx as nx
import matplotlib.pyplot as plt
import numpy as np


grapplemap = pd.read_csv('grapplemap_df.csv')
positions = grapplemap[grapplemap['is_position'] == 1]
transitions = grapplemap[grapplemap['is_transition'] == 1]
grapplemap.head()


# Create a directed graph
G = nx.DiGraph()

# Add nodes (positions)
for _, row in positions.iterrows():
    G.add_node(row['code'], description=row['description'], tags=row['tags'],is_explicit_position=True)

# Add edges (transitions)
for _, row in transitions.iterrows():
    start_pos = row['start_position']
    end_pos = row['end_position']
    
    # Add start position if it doesn't exist
    if start_pos not in G.nodes:
        G.add_node(start_pos, description='Unknown', tags='Unknown', is_explicit_position=False)
    # Add end position if it doesn't exist
    if end_pos not in G.nodes:
        G.add_node(end_pos, description='Unknown', tags='Unknown', is_explicit_position=False)
    #add edge between them 
    G.add_edge(row['start_position'], row['end_position'], 
                   description=row['description'], tags=row['tags'])
        

# Add nodes and edges from transitions
for _, row in df[df['is_transition'] == 1].iterrows():

    
    # Add the edge (transition)
    G.add_edge(start_pos, end_pos, description=row['description'], tags=row['tags'])


# Basic graph information
print(f"Number of nodes: {G.number_of_nodes()}")
print(f"Number of edges: {G.number_of_edges()}")


# Centrality measures
degree_centrality = nx.degree_centrality(G)
betweenness_centrality = nx.betweenness_centrality(G)
closeness_centrality = nx.closeness_centrality(G)

# Find top 5 positions by degree centrality
top_positions = sorted(degree_centrality.items(), key=lambda x: x[1], reverse=True)[:5]
print("Top 5 positions by degree centrality:", top_positions)

# Community detection
communities = list(nx.community.greedy_modularity_communities(G))
print(f"Number of communities detected: {len(communities)}")




